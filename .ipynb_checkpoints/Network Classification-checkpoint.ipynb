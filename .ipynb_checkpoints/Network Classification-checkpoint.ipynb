{
 "cells": [
  {
   "cell_type": "markdown",
   "metadata": {
    "collapsed": true
   },
   "source": [
    "# Classifying Vascular Networks\n",
    "Jocelyn Shen"
   ]
  },
  {
   "cell_type": "markdown",
   "metadata": {},
   "source": [
    "###### In this notebook, I will be using SVMs, PCA, and logistic regression to classify networks"
   ]
  },
  {
   "cell_type": "markdown",
   "metadata": {},
   "source": [
    "<img src=\"http://faculty.biomath.ucla.edu/vsavage/Assets/Graphics/dicom_small_9_gd_crop_alpha.png\",width=250>"
   ]
  },
  {
   "cell_type": "markdown",
   "metadata": {},
   "source": [
    "### Animal Networks vs. Plant Networks"
   ]
  },
  {
   "cell_type": "markdown",
   "metadata": {},
   "source": [
    "The data I am using is from the AngiCAML version of Angicart software.\n",
    "1. hht_master is data from 18 human head and torso images (ANIMAL)\n",
    "\n",
    "2. mouselung_master is data from a mouse lung data (ANIMAL)\n",
    "\n",
    "3. pinon_master is data from a Pinon tree/pine tree (PLANT)\n",
    "\n",
    "4. ponderosa_master is data from a 5 sapling ponderosa pine trees (PLANT)\n",
    "\n",
    "5. root_master is data from a large collection of clumps of tree roots (PLANT)  \n",
    "\n",
    "6. treetips_master is data from a collection of 50cm long tree tip samples (PLANT) \n",
    "    \n",
    "    a) 30 samples -- 5 individuals from 6 different species\n",
    "    \n",
    "    b) \"class\" distinguishes between angiosperm (AS, flowering plant), and gymnosperm (GS, non-flowering plant)."
   ]
  },
  {
   "cell_type": "markdown",
   "metadata": {},
   "source": [
    "#### STEP 1: Load the Data"
   ]
  },
  {
   "cell_type": "code",
   "execution_count": 2,
   "metadata": {
    "collapsed": true
   },
   "outputs": [],
   "source": [
    "from itertools import combinations, chain\n",
    "\n",
    "import numpy as np\n",
    "import matplotlib.pyplot as plt\n",
    "import pandas as pd\n",
    "import seaborn as sns\n",
    "\n",
    "from sklearn.linear_model import LinearRegression, LogisticRegression\n",
    "from sklearn.metrics import accuracy_score, confusion_matrix, r2_score\n",
    "\n",
    "%matplotlib inline\n",
    "\n",
    "plt.style.use(\"fivethirtyeight\")"
   ]
  },
  {
   "cell_type": "code",
   "execution_count": 3,
   "metadata": {
    "collapsed": true
   },
   "outputs": [],
   "source": [
    "hht = pd.read_csv(\"hht_master.csv\")\n",
    "ml = pd.read_csv(\"mouselung_master.csv\")\n",
    "pinon = pd.read_csv(\"pinon_master.csv\")\n",
    "ponderosa = pd.read_csv(\"ponderosa_master.csv\")\n",
    "root = pd.read_csv(\"root_master.csv\")\n",
    "treetips = pd.read_csv(\"treetips_master.csv\")\n",
    "datasets = [hht,ml,pinon,ponderosa,root,treetips]"
   ]
  },
  {
   "cell_type": "markdown",
   "metadata": {},
   "source": [
    "#### STEP 2: Clean the Datasets"
   ]
  },
  {
   "cell_type": "markdown",
   "metadata": {},
   "source": [
    "##### Human Head and Torso Data"
   ]
  },
  {
   "cell_type": "code",
   "execution_count": 4,
   "metadata": {
    "scrolled": false
   },
   "outputs": [
    {
     "data": {
      "text/html": [
       "<div>\n",
       "<style>\n",
       "    .dataframe thead tr:only-child th {\n",
       "        text-align: right;\n",
       "    }\n",
       "\n",
       "    .dataframe thead th {\n",
       "        text-align: left;\n",
       "    }\n",
       "\n",
       "    .dataframe tbody tr th {\n",
       "        vertical-align: top;\n",
       "    }\n",
       "</style>\n",
       "<table border=\"1\" class=\"dataframe\">\n",
       "  <thead>\n",
       "    <tr style=\"text-align: right;\">\n",
       "      <th></th>\n",
       "      <th>Unnamed: 0</th>\n",
       "      <th>nodeid</th>\n",
       "      <th>parent</th>\n",
       "      <th>indv</th>\n",
       "      <th>generation</th>\n",
       "      <th>n</th>\n",
       "      <th>beta.ave</th>\n",
       "      <th>beta.diff</th>\n",
       "      <th>gamma.ave</th>\n",
       "      <th>gamma.diff</th>\n",
       "    </tr>\n",
       "  </thead>\n",
       "  <tbody>\n",
       "    <tr>\n",
       "      <th>0</th>\n",
       "      <td>1</td>\n",
       "      <td>(113, 303, 19)-(116, 317, 20)</td>\n",
       "      <td>0</td>\n",
       "      <td>hht01</td>\n",
       "      <td>1.0</td>\n",
       "      <td>2.0</td>\n",
       "      <td>0.878390</td>\n",
       "      <td>-0.052772</td>\n",
       "      <td>0.967488</td>\n",
       "      <td>0.181460</td>\n",
       "    </tr>\n",
       "    <tr>\n",
       "      <th>1</th>\n",
       "      <td>2</td>\n",
       "      <td>(107, 293, 13)-(113, 303, 19)</td>\n",
       "      <td>(113, 303, 19)-(116, 317, 20)</td>\n",
       "      <td>hht01</td>\n",
       "      <td>0.3</td>\n",
       "      <td>2.0</td>\n",
       "      <td>0.321974</td>\n",
       "      <td>-0.025686</td>\n",
       "      <td>0.733451</td>\n",
       "      <td>0.568940</td>\n",
       "    </tr>\n",
       "    <tr>\n",
       "      <th>2</th>\n",
       "      <td>3</td>\n",
       "      <td>(105, 293, 13)-(107, 293, 13)</td>\n",
       "      <td>(107, 293, 13)-(113, 303, 19)</td>\n",
       "      <td>hht01</td>\n",
       "      <td>0.3</td>\n",
       "      <td>2.0</td>\n",
       "      <td>0.704715</td>\n",
       "      <td>0.296466</td>\n",
       "      <td>3.513122</td>\n",
       "      <td>3.013122</td>\n",
       "    </tr>\n",
       "    <tr>\n",
       "      <th>3</th>\n",
       "      <td>4</td>\n",
       "      <td>(104, 292, 13)-(105, 293, 13)</td>\n",
       "      <td>(105, 293, 13)-(107, 293, 13)</td>\n",
       "      <td>hht01</td>\n",
       "      <td>0.2</td>\n",
       "      <td>2.0</td>\n",
       "      <td>1.827236</td>\n",
       "      <td>0.938097</td>\n",
       "      <td>6.745904</td>\n",
       "      <td>5.480993</td>\n",
       "    </tr>\n",
       "    <tr>\n",
       "      <th>4</th>\n",
       "      <td>5</td>\n",
       "      <td>(103, 291, 12)-(104, 292, 13)</td>\n",
       "      <td>(104, 292, 13)-(105, 293, 13)</td>\n",
       "      <td>hht01</td>\n",
       "      <td>0.2</td>\n",
       "      <td>2.0</td>\n",
       "      <td>3.323552</td>\n",
       "      <td>0.572827</td>\n",
       "      <td>12.394017</td>\n",
       "      <td>5.719845</td>\n",
       "    </tr>\n",
       "  </tbody>\n",
       "</table>\n",
       "</div>"
      ],
      "text/plain": [
       "   Unnamed: 0                         nodeid                         parent  \\\n",
       "0           1  (113, 303, 19)-(116, 317, 20)                              0   \n",
       "1           2  (107, 293, 13)-(113, 303, 19)  (113, 303, 19)-(116, 317, 20)   \n",
       "2           3  (105, 293, 13)-(107, 293, 13)  (107, 293, 13)-(113, 303, 19)   \n",
       "3           4  (104, 292, 13)-(105, 293, 13)  (105, 293, 13)-(107, 293, 13)   \n",
       "4           5  (103, 291, 12)-(104, 292, 13)  (104, 292, 13)-(105, 293, 13)   \n",
       "\n",
       "    indv  generation    n  beta.ave  beta.diff  gamma.ave  gamma.diff  \n",
       "0  hht01         1.0  2.0  0.878390  -0.052772   0.967488    0.181460  \n",
       "1  hht01         0.3  2.0  0.321974  -0.025686   0.733451    0.568940  \n",
       "2  hht01         0.3  2.0  0.704715   0.296466   3.513122    3.013122  \n",
       "3  hht01         0.2  2.0  1.827236   0.938097   6.745904    5.480993  \n",
       "4  hht01         0.2  2.0  3.323552   0.572827  12.394017    5.719845  "
      ]
     },
     "execution_count": 4,
     "metadata": {},
     "output_type": "execute_result"
    }
   ],
   "source": [
    "hht_null = hht[hht.isnull().any(axis=1)]\n",
    "hht = hht.drop(hht_null.index)\n",
    "hht.head()"
   ]
  },
  {
   "cell_type": "code",
   "execution_count": 6,
   "metadata": {
    "scrolled": true
   },
   "outputs": [
    {
     "data": {
      "text/html": [
       "<div>\n",
       "<style>\n",
       "    .dataframe thead tr:only-child th {\n",
       "        text-align: right;\n",
       "    }\n",
       "\n",
       "    .dataframe thead th {\n",
       "        text-align: left;\n",
       "    }\n",
       "\n",
       "    .dataframe tbody tr th {\n",
       "        vertical-align: top;\n",
       "    }\n",
       "</style>\n",
       "<table border=\"1\" class=\"dataframe\">\n",
       "  <thead>\n",
       "    <tr style=\"text-align: right;\">\n",
       "      <th></th>\n",
       "      <th>beta.ave</th>\n",
       "      <th>beta.diff</th>\n",
       "      <th>gamma.ave</th>\n",
       "      <th>gamma.diff</th>\n",
       "    </tr>\n",
       "  </thead>\n",
       "  <tbody>\n",
       "    <tr>\n",
       "      <th>0</th>\n",
       "      <td>0.878390</td>\n",
       "      <td>-0.052772</td>\n",
       "      <td>0.967488</td>\n",
       "      <td>0.181460</td>\n",
       "    </tr>\n",
       "    <tr>\n",
       "      <th>1</th>\n",
       "      <td>0.321974</td>\n",
       "      <td>-0.025686</td>\n",
       "      <td>0.733451</td>\n",
       "      <td>0.568940</td>\n",
       "    </tr>\n",
       "    <tr>\n",
       "      <th>2</th>\n",
       "      <td>0.704715</td>\n",
       "      <td>0.296466</td>\n",
       "      <td>3.513122</td>\n",
       "      <td>3.013122</td>\n",
       "    </tr>\n",
       "    <tr>\n",
       "      <th>3</th>\n",
       "      <td>1.827236</td>\n",
       "      <td>0.938097</td>\n",
       "      <td>6.745904</td>\n",
       "      <td>5.480993</td>\n",
       "    </tr>\n",
       "    <tr>\n",
       "      <th>4</th>\n",
       "      <td>3.323552</td>\n",
       "      <td>0.572827</td>\n",
       "      <td>12.394017</td>\n",
       "      <td>5.719845</td>\n",
       "    </tr>\n",
       "  </tbody>\n",
       "</table>\n",
       "</div>"
      ],
      "text/plain": [
       "   beta.ave  beta.diff  gamma.ave  gamma.diff\n",
       "0  0.878390  -0.052772   0.967488    0.181460\n",
       "1  0.321974  -0.025686   0.733451    0.568940\n",
       "2  0.704715   0.296466   3.513122    3.013122\n",
       "3  1.827236   0.938097   6.745904    5.480993\n",
       "4  3.323552   0.572827  12.394017    5.719845"
      ]
     },
     "execution_count": 6,
     "metadata": {},
     "output_type": "execute_result"
    }
   ],
   "source": [
    "hht_beta_gamma = pd.concat([hht['beta.ave'], hht['beta.diff'], hht['gamma.ave'], hht['gamma.diff']], axis=1, \n",
    "                           keys=['beta.ave', 'beta.diff', 'gamma.ave', 'gamma.diff'])\n",
    "hht_beta_gamma.head()"
   ]
  },
  {
   "cell_type": "markdown",
   "metadata": {},
   "source": [
    "##### Mouse Lung Data"
   ]
  },
  {
   "cell_type": "code",
   "execution_count": 7,
   "metadata": {
    "scrolled": false
   },
   "outputs": [
    {
     "data": {
      "text/html": [
       "<div>\n",
       "<style>\n",
       "    .dataframe thead tr:only-child th {\n",
       "        text-align: right;\n",
       "    }\n",
       "\n",
       "    .dataframe thead th {\n",
       "        text-align: left;\n",
       "    }\n",
       "\n",
       "    .dataframe tbody tr th {\n",
       "        vertical-align: top;\n",
       "    }\n",
       "</style>\n",
       "<table border=\"1\" class=\"dataframe\">\n",
       "  <thead>\n",
       "    <tr style=\"text-align: right;\">\n",
       "      <th></th>\n",
       "      <th>Unnamed: 0</th>\n",
       "      <th>nodeid</th>\n",
       "      <th>parent</th>\n",
       "      <th>generation</th>\n",
       "      <th>n</th>\n",
       "      <th>beta.ave</th>\n",
       "      <th>beta.diff</th>\n",
       "      <th>gamma.ave</th>\n",
       "      <th>gamma.diff</th>\n",
       "    </tr>\n",
       "  </thead>\n",
       "  <tbody>\n",
       "    <tr>\n",
       "      <th>0</th>\n",
       "      <td>1</td>\n",
       "      <td>(156, 101, 104)-(156, 109, 101)</td>\n",
       "      <td>0</td>\n",
       "      <td>0.9</td>\n",
       "      <td>2.0</td>\n",
       "      <td>0.776606</td>\n",
       "      <td>-0.090943</td>\n",
       "      <td>4.343893</td>\n",
       "      <td>1.837972</td>\n",
       "    </tr>\n",
       "    <tr>\n",
       "      <th>1</th>\n",
       "      <td>2</td>\n",
       "      <td>(156, 109, 101)-(159, 131, 98)</td>\n",
       "      <td>(156, 101, 104)-(156, 109, 101)</td>\n",
       "      <td>1.0</td>\n",
       "      <td>2.0</td>\n",
       "      <td>0.551383</td>\n",
       "      <td>-0.008586</td>\n",
       "      <td>0.328757</td>\n",
       "      <td>0.026243</td>\n",
       "    </tr>\n",
       "    <tr>\n",
       "      <th>2</th>\n",
       "      <td>3</td>\n",
       "      <td>(159, 131, 98)-(162, 136, 101)</td>\n",
       "      <td>(156, 109, 101)-(159, 131, 98)</td>\n",
       "      <td>1.0</td>\n",
       "      <td>2.0</td>\n",
       "      <td>1.022952</td>\n",
       "      <td>0.384252</td>\n",
       "      <td>1.305386</td>\n",
       "      <td>0.666746</td>\n",
       "    </tr>\n",
       "    <tr>\n",
       "      <th>3</th>\n",
       "      <td>4</td>\n",
       "      <td>(162, 136, 101)-(164, 137, 112)</td>\n",
       "      <td>(159, 131, 98)-(162, 136, 101)</td>\n",
       "      <td>0.9</td>\n",
       "      <td>2.0</td>\n",
       "      <td>0.485138</td>\n",
       "      <td>0.357218</td>\n",
       "      <td>0.379264</td>\n",
       "      <td>0.296903</td>\n",
       "    </tr>\n",
       "    <tr>\n",
       "      <th>4</th>\n",
       "      <td>5</td>\n",
       "      <td>(164, 137, 112)-(167, 141, 121)</td>\n",
       "      <td>(162, 136, 101)-(164, 137, 112)</td>\n",
       "      <td>0.9</td>\n",
       "      <td>2.0</td>\n",
       "      <td>0.255049</td>\n",
       "      <td>0.103189</td>\n",
       "      <td>0.164871</td>\n",
       "      <td>0.043065</td>\n",
       "    </tr>\n",
       "  </tbody>\n",
       "</table>\n",
       "</div>"
      ],
      "text/plain": [
       "   Unnamed: 0                           nodeid  \\\n",
       "0           1  (156, 101, 104)-(156, 109, 101)   \n",
       "1           2   (156, 109, 101)-(159, 131, 98)   \n",
       "2           3   (159, 131, 98)-(162, 136, 101)   \n",
       "3           4  (162, 136, 101)-(164, 137, 112)   \n",
       "4           5  (164, 137, 112)-(167, 141, 121)   \n",
       "\n",
       "                            parent  generation    n  beta.ave  beta.diff  \\\n",
       "0                                0         0.9  2.0  0.776606  -0.090943   \n",
       "1  (156, 101, 104)-(156, 109, 101)         1.0  2.0  0.551383  -0.008586   \n",
       "2   (156, 109, 101)-(159, 131, 98)         1.0  2.0  1.022952   0.384252   \n",
       "3   (159, 131, 98)-(162, 136, 101)         0.9  2.0  0.485138   0.357218   \n",
       "4  (162, 136, 101)-(164, 137, 112)         0.9  2.0  0.255049   0.103189   \n",
       "\n",
       "   gamma.ave  gamma.diff  \n",
       "0   4.343893    1.837972  \n",
       "1   0.328757    0.026243  \n",
       "2   1.305386    0.666746  \n",
       "3   0.379264    0.296903  \n",
       "4   0.164871    0.043065  "
      ]
     },
     "execution_count": 7,
     "metadata": {},
     "output_type": "execute_result"
    }
   ],
   "source": [
    "ml_null = ml[ml.isnull().any(axis=1)]\n",
    "ml = ml.drop(ml_null.index)\n",
    "ml.head()"
   ]
  },
  {
   "cell_type": "code",
   "execution_count": 8,
   "metadata": {
    "scrolled": false
   },
   "outputs": [
    {
     "data": {
      "text/html": [
       "<div>\n",
       "<style>\n",
       "    .dataframe thead tr:only-child th {\n",
       "        text-align: right;\n",
       "    }\n",
       "\n",
       "    .dataframe thead th {\n",
       "        text-align: left;\n",
       "    }\n",
       "\n",
       "    .dataframe tbody tr th {\n",
       "        vertical-align: top;\n",
       "    }\n",
       "</style>\n",
       "<table border=\"1\" class=\"dataframe\">\n",
       "  <thead>\n",
       "    <tr style=\"text-align: right;\">\n",
       "      <th></th>\n",
       "      <th>beta.ave</th>\n",
       "      <th>beta.diff</th>\n",
       "      <th>gamma.ave</th>\n",
       "      <th>gamma.diff</th>\n",
       "    </tr>\n",
       "  </thead>\n",
       "  <tbody>\n",
       "    <tr>\n",
       "      <th>0</th>\n",
       "      <td>0.776606</td>\n",
       "      <td>-0.090943</td>\n",
       "      <td>4.343893</td>\n",
       "      <td>1.837972</td>\n",
       "    </tr>\n",
       "    <tr>\n",
       "      <th>1</th>\n",
       "      <td>0.551383</td>\n",
       "      <td>-0.008586</td>\n",
       "      <td>0.328757</td>\n",
       "      <td>0.026243</td>\n",
       "    </tr>\n",
       "    <tr>\n",
       "      <th>2</th>\n",
       "      <td>1.022952</td>\n",
       "      <td>0.384252</td>\n",
       "      <td>1.305386</td>\n",
       "      <td>0.666746</td>\n",
       "    </tr>\n",
       "    <tr>\n",
       "      <th>3</th>\n",
       "      <td>0.485138</td>\n",
       "      <td>0.357218</td>\n",
       "      <td>0.379264</td>\n",
       "      <td>0.296903</td>\n",
       "    </tr>\n",
       "    <tr>\n",
       "      <th>4</th>\n",
       "      <td>0.255049</td>\n",
       "      <td>0.103189</td>\n",
       "      <td>0.164871</td>\n",
       "      <td>0.043065</td>\n",
       "    </tr>\n",
       "  </tbody>\n",
       "</table>\n",
       "</div>"
      ],
      "text/plain": [
       "   beta.ave  beta.diff  gamma.ave  gamma.diff\n",
       "0  0.776606  -0.090943   4.343893    1.837972\n",
       "1  0.551383  -0.008586   0.328757    0.026243\n",
       "2  1.022952   0.384252   1.305386    0.666746\n",
       "3  0.485138   0.357218   0.379264    0.296903\n",
       "4  0.255049   0.103189   0.164871    0.043065"
      ]
     },
     "execution_count": 8,
     "metadata": {},
     "output_type": "execute_result"
    }
   ],
   "source": [
    "ml_beta_gamma = pd.concat([ml['beta.ave'], ml['beta.diff'], ml['gamma.ave'], ml['gamma.diff']], axis=1, \n",
    "                           keys=['beta.ave', 'beta.diff', 'gamma.ave', 'gamma.diff'])\n",
    "ml_beta_gamma.head()"
   ]
  },
  {
   "cell_type": "markdown",
   "metadata": {},
   "source": [
    "##### Pinon Data (Pine Tree Data)"
   ]
  },
  {
   "cell_type": "code",
   "execution_count": 9,
   "metadata": {
    "scrolled": true
   },
   "outputs": [
    {
     "data": {
      "text/html": [
       "<div>\n",
       "<style>\n",
       "    .dataframe thead tr:only-child th {\n",
       "        text-align: right;\n",
       "    }\n",
       "\n",
       "    .dataframe thead th {\n",
       "        text-align: left;\n",
       "    }\n",
       "\n",
       "    .dataframe tbody tr th {\n",
       "        vertical-align: top;\n",
       "    }\n",
       "</style>\n",
       "<table border=\"1\" class=\"dataframe\">\n",
       "  <thead>\n",
       "    <tr style=\"text-align: right;\">\n",
       "      <th></th>\n",
       "      <th>Unnamed: 0</th>\n",
       "      <th>nodeid</th>\n",
       "      <th>parent</th>\n",
       "      <th>generation</th>\n",
       "      <th>n</th>\n",
       "      <th>beta.ave</th>\n",
       "      <th>beta.diff</th>\n",
       "      <th>gamma.ave</th>\n",
       "      <th>gamma.diff</th>\n",
       "    </tr>\n",
       "  </thead>\n",
       "  <tbody>\n",
       "    <tr>\n",
       "      <th>7</th>\n",
       "      <td>8</td>\n",
       "      <td>10.0</td>\n",
       "      <td>5.0</td>\n",
       "      <td>0.4</td>\n",
       "      <td>2.0</td>\n",
       "      <td>0.356098</td>\n",
       "      <td>0.078049</td>\n",
       "      <td>0.243902</td>\n",
       "      <td>0.158537</td>\n",
       "    </tr>\n",
       "    <tr>\n",
       "      <th>9</th>\n",
       "      <td>10</td>\n",
       "      <td>12.0</td>\n",
       "      <td>10.0</td>\n",
       "      <td>0.4</td>\n",
       "      <td>2.0</td>\n",
       "      <td>1.466292</td>\n",
       "      <td>0.511236</td>\n",
       "      <td>1.863636</td>\n",
       "      <td>0.893939</td>\n",
       "    </tr>\n",
       "    <tr>\n",
       "      <th>11</th>\n",
       "      <td>12</td>\n",
       "      <td>14.0</td>\n",
       "      <td>12.0</td>\n",
       "      <td>0.3</td>\n",
       "      <td>2.0</td>\n",
       "      <td>1.223529</td>\n",
       "      <td>0.305882</td>\n",
       "      <td>1.296875</td>\n",
       "      <td>0.359375</td>\n",
       "    </tr>\n",
       "    <tr>\n",
       "      <th>13</th>\n",
       "      <td>14</td>\n",
       "      <td>16.0</td>\n",
       "      <td>14.0</td>\n",
       "      <td>0.2</td>\n",
       "      <td>2.0</td>\n",
       "      <td>1.429487</td>\n",
       "      <td>0.660256</td>\n",
       "      <td>1.500000</td>\n",
       "      <td>0.733333</td>\n",
       "    </tr>\n",
       "    <tr>\n",
       "      <th>15</th>\n",
       "      <td>16</td>\n",
       "      <td>18.0</td>\n",
       "      <td>16.0</td>\n",
       "      <td>0.2</td>\n",
       "      <td>2.0</td>\n",
       "      <td>2.083333</td>\n",
       "      <td>1.250000</td>\n",
       "      <td>2.108696</td>\n",
       "      <td>1.717391</td>\n",
       "    </tr>\n",
       "  </tbody>\n",
       "</table>\n",
       "</div>"
      ],
      "text/plain": [
       "    Unnamed: 0  nodeid  parent  generation    n  beta.ave  beta.diff  \\\n",
       "7            8    10.0     5.0         0.4  2.0  0.356098   0.078049   \n",
       "9           10    12.0    10.0         0.4  2.0  1.466292   0.511236   \n",
       "11          12    14.0    12.0         0.3  2.0  1.223529   0.305882   \n",
       "13          14    16.0    14.0         0.2  2.0  1.429487   0.660256   \n",
       "15          16    18.0    16.0         0.2  2.0  2.083333   1.250000   \n",
       "\n",
       "    gamma.ave  gamma.diff  \n",
       "7    0.243902    0.158537  \n",
       "9    1.863636    0.893939  \n",
       "11   1.296875    0.359375  \n",
       "13   1.500000    0.733333  \n",
       "15   2.108696    1.717391  "
      ]
     },
     "execution_count": 9,
     "metadata": {},
     "output_type": "execute_result"
    }
   ],
   "source": [
    "pinon_null = pinon[pinon.isnull().any(axis=1)]\n",
    "pinon = pinon.drop(pinon_null.index)\n",
    "pinon.head()"
   ]
  },
  {
   "cell_type": "code",
   "execution_count": 10,
   "metadata": {},
   "outputs": [
    {
     "data": {
      "text/html": [
       "<div>\n",
       "<style>\n",
       "    .dataframe thead tr:only-child th {\n",
       "        text-align: right;\n",
       "    }\n",
       "\n",
       "    .dataframe thead th {\n",
       "        text-align: left;\n",
       "    }\n",
       "\n",
       "    .dataframe tbody tr th {\n",
       "        vertical-align: top;\n",
       "    }\n",
       "</style>\n",
       "<table border=\"1\" class=\"dataframe\">\n",
       "  <thead>\n",
       "    <tr style=\"text-align: right;\">\n",
       "      <th></th>\n",
       "      <th>beta.ave</th>\n",
       "      <th>beta.diff</th>\n",
       "      <th>gamma.ave</th>\n",
       "      <th>gamma.diff</th>\n",
       "    </tr>\n",
       "  </thead>\n",
       "  <tbody>\n",
       "    <tr>\n",
       "      <th>7</th>\n",
       "      <td>0.356098</td>\n",
       "      <td>0.078049</td>\n",
       "      <td>0.243902</td>\n",
       "      <td>0.158537</td>\n",
       "    </tr>\n",
       "    <tr>\n",
       "      <th>9</th>\n",
       "      <td>1.466292</td>\n",
       "      <td>0.511236</td>\n",
       "      <td>1.863636</td>\n",
       "      <td>0.893939</td>\n",
       "    </tr>\n",
       "    <tr>\n",
       "      <th>11</th>\n",
       "      <td>1.223529</td>\n",
       "      <td>0.305882</td>\n",
       "      <td>1.296875</td>\n",
       "      <td>0.359375</td>\n",
       "    </tr>\n",
       "    <tr>\n",
       "      <th>13</th>\n",
       "      <td>1.429487</td>\n",
       "      <td>0.660256</td>\n",
       "      <td>1.500000</td>\n",
       "      <td>0.733333</td>\n",
       "    </tr>\n",
       "    <tr>\n",
       "      <th>15</th>\n",
       "      <td>2.083333</td>\n",
       "      <td>1.250000</td>\n",
       "      <td>2.108696</td>\n",
       "      <td>1.717391</td>\n",
       "    </tr>\n",
       "  </tbody>\n",
       "</table>\n",
       "</div>"
      ],
      "text/plain": [
       "    beta.ave  beta.diff  gamma.ave  gamma.diff\n",
       "7   0.356098   0.078049   0.243902    0.158537\n",
       "9   1.466292   0.511236   1.863636    0.893939\n",
       "11  1.223529   0.305882   1.296875    0.359375\n",
       "13  1.429487   0.660256   1.500000    0.733333\n",
       "15  2.083333   1.250000   2.108696    1.717391"
      ]
     },
     "execution_count": 10,
     "metadata": {},
     "output_type": "execute_result"
    }
   ],
   "source": [
    "pinon_beta_gamma = pd.concat([pinon['beta.ave'], pinon['beta.diff'], pinon['gamma.ave'], pinon['gamma.diff']], axis=1, \n",
    "                           keys=['beta.ave', 'beta.diff', 'gamma.ave', 'gamma.diff'])\n",
    "pinon_beta_gamma.head()"
   ]
  },
  {
   "cell_type": "markdown",
   "metadata": {},
   "source": [
    "##### Ponderosa Data"
   ]
  },
  {
   "cell_type": "code",
   "execution_count": 11,
   "metadata": {
    "scrolled": true
   },
   "outputs": [
    {
     "data": {
      "text/html": [
       "<div>\n",
       "<style>\n",
       "    .dataframe thead tr:only-child th {\n",
       "        text-align: right;\n",
       "    }\n",
       "\n",
       "    .dataframe thead th {\n",
       "        text-align: left;\n",
       "    }\n",
       "\n",
       "    .dataframe tbody tr th {\n",
       "        vertical-align: top;\n",
       "    }\n",
       "</style>\n",
       "<table border=\"1\" class=\"dataframe\">\n",
       "  <thead>\n",
       "    <tr style=\"text-align: right;\">\n",
       "      <th></th>\n",
       "      <th>Unnamed: 0</th>\n",
       "      <th>nodeid</th>\n",
       "      <th>parent</th>\n",
       "      <th>indv</th>\n",
       "      <th>generation</th>\n",
       "      <th>n</th>\n",
       "      <th>beta.ave</th>\n",
       "      <th>beta.diff</th>\n",
       "      <th>gamma.ave</th>\n",
       "      <th>gamma.diff</th>\n",
       "    </tr>\n",
       "  </thead>\n",
       "  <tbody>\n",
       "    <tr>\n",
       "      <th>0</th>\n",
       "      <td>1</td>\n",
       "      <td>1</td>\n",
       "      <td>0</td>\n",
       "      <td>pond03_edited</td>\n",
       "      <td>1.0</td>\n",
       "      <td>2.0</td>\n",
       "      <td>0.576667</td>\n",
       "      <td>-0.390000</td>\n",
       "      <td>1.014706</td>\n",
       "      <td>0.573529</td>\n",
       "    </tr>\n",
       "    <tr>\n",
       "      <th>2</th>\n",
       "      <td>3</td>\n",
       "      <td>3</td>\n",
       "      <td>1</td>\n",
       "      <td>pond03_edited</td>\n",
       "      <td>0.2</td>\n",
       "      <td>2.0</td>\n",
       "      <td>0.544643</td>\n",
       "      <td>-0.133929</td>\n",
       "      <td>0.188889</td>\n",
       "      <td>0.055556</td>\n",
       "    </tr>\n",
       "    <tr>\n",
       "      <th>10</th>\n",
       "      <td>11</td>\n",
       "      <td>11</td>\n",
       "      <td>4</td>\n",
       "      <td>pond03_edited</td>\n",
       "      <td>0.5</td>\n",
       "      <td>2.0</td>\n",
       "      <td>0.661538</td>\n",
       "      <td>-0.107692</td>\n",
       "      <td>1.795775</td>\n",
       "      <td>0.950704</td>\n",
       "    </tr>\n",
       "    <tr>\n",
       "      <th>11</th>\n",
       "      <td>12</td>\n",
       "      <td>12</td>\n",
       "      <td>9</td>\n",
       "      <td>pond03_edited</td>\n",
       "      <td>0.7</td>\n",
       "      <td>2.0</td>\n",
       "      <td>0.600000</td>\n",
       "      <td>-0.309091</td>\n",
       "      <td>19.958333</td>\n",
       "      <td>10.041667</td>\n",
       "    </tr>\n",
       "    <tr>\n",
       "      <th>14</th>\n",
       "      <td>15</td>\n",
       "      <td>15</td>\n",
       "      <td>11</td>\n",
       "      <td>pond03_edited</td>\n",
       "      <td>0.4</td>\n",
       "      <td>2.0</td>\n",
       "      <td>0.650000</td>\n",
       "      <td>-0.200000</td>\n",
       "      <td>0.987500</td>\n",
       "      <td>0.287500</td>\n",
       "    </tr>\n",
       "  </tbody>\n",
       "</table>\n",
       "</div>"
      ],
      "text/plain": [
       "    Unnamed: 0  nodeid  parent           indv  generation    n  beta.ave  \\\n",
       "0            1       1       0  pond03_edited         1.0  2.0  0.576667   \n",
       "2            3       3       1  pond03_edited         0.2  2.0  0.544643   \n",
       "10          11      11       4  pond03_edited         0.5  2.0  0.661538   \n",
       "11          12      12       9  pond03_edited         0.7  2.0  0.600000   \n",
       "14          15      15      11  pond03_edited         0.4  2.0  0.650000   \n",
       "\n",
       "    beta.diff  gamma.ave  gamma.diff  \n",
       "0   -0.390000   1.014706    0.573529  \n",
       "2   -0.133929   0.188889    0.055556  \n",
       "10  -0.107692   1.795775    0.950704  \n",
       "11  -0.309091  19.958333   10.041667  \n",
       "14  -0.200000   0.987500    0.287500  "
      ]
     },
     "execution_count": 11,
     "metadata": {},
     "output_type": "execute_result"
    }
   ],
   "source": [
    "ponderosa_null = ponderosa[ponderosa.isnull().any(axis=1)]\n",
    "ponderosa = ponderosa.drop(ponderosa_null.index)\n",
    "ponderosa.head()"
   ]
  },
  {
   "cell_type": "code",
   "execution_count": 12,
   "metadata": {},
   "outputs": [
    {
     "data": {
      "text/html": [
       "<div>\n",
       "<style>\n",
       "    .dataframe thead tr:only-child th {\n",
       "        text-align: right;\n",
       "    }\n",
       "\n",
       "    .dataframe thead th {\n",
       "        text-align: left;\n",
       "    }\n",
       "\n",
       "    .dataframe tbody tr th {\n",
       "        vertical-align: top;\n",
       "    }\n",
       "</style>\n",
       "<table border=\"1\" class=\"dataframe\">\n",
       "  <thead>\n",
       "    <tr style=\"text-align: right;\">\n",
       "      <th></th>\n",
       "      <th>beta.ave</th>\n",
       "      <th>beta.diff</th>\n",
       "      <th>gamma.ave</th>\n",
       "      <th>gamma.diff</th>\n",
       "    </tr>\n",
       "  </thead>\n",
       "  <tbody>\n",
       "    <tr>\n",
       "      <th>0</th>\n",
       "      <td>0.576667</td>\n",
       "      <td>-0.390000</td>\n",
       "      <td>1.014706</td>\n",
       "      <td>0.573529</td>\n",
       "    </tr>\n",
       "    <tr>\n",
       "      <th>2</th>\n",
       "      <td>0.544643</td>\n",
       "      <td>-0.133929</td>\n",
       "      <td>0.188889</td>\n",
       "      <td>0.055556</td>\n",
       "    </tr>\n",
       "    <tr>\n",
       "      <th>10</th>\n",
       "      <td>0.661538</td>\n",
       "      <td>-0.107692</td>\n",
       "      <td>1.795775</td>\n",
       "      <td>0.950704</td>\n",
       "    </tr>\n",
       "    <tr>\n",
       "      <th>11</th>\n",
       "      <td>0.600000</td>\n",
       "      <td>-0.309091</td>\n",
       "      <td>19.958333</td>\n",
       "      <td>10.041667</td>\n",
       "    </tr>\n",
       "    <tr>\n",
       "      <th>14</th>\n",
       "      <td>0.650000</td>\n",
       "      <td>-0.200000</td>\n",
       "      <td>0.987500</td>\n",
       "      <td>0.287500</td>\n",
       "    </tr>\n",
       "  </tbody>\n",
       "</table>\n",
       "</div>"
      ],
      "text/plain": [
       "    beta.ave  beta.diff  gamma.ave  gamma.diff\n",
       "0   0.576667  -0.390000   1.014706    0.573529\n",
       "2   0.544643  -0.133929   0.188889    0.055556\n",
       "10  0.661538  -0.107692   1.795775    0.950704\n",
       "11  0.600000  -0.309091  19.958333   10.041667\n",
       "14  0.650000  -0.200000   0.987500    0.287500"
      ]
     },
     "execution_count": 12,
     "metadata": {},
     "output_type": "execute_result"
    }
   ],
   "source": [
    "ponderosa_beta_gamma = pd.concat([ponderosa['beta.ave'], ponderosa['beta.diff'], ponderosa['gamma.ave'], ponderosa['gamma.diff']], axis=1, \n",
    "                           keys=['beta.ave', 'beta.diff', 'gamma.ave', 'gamma.diff'])\n",
    "ponderosa_beta_gamma.head()"
   ]
  },
  {
   "cell_type": "markdown",
   "metadata": {},
   "source": [
    "##### Root Data"
   ]
  },
  {
   "cell_type": "code",
   "execution_count": 13,
   "metadata": {
    "scrolled": true
   },
   "outputs": [
    {
     "data": {
      "text/html": [
       "<div>\n",
       "<style>\n",
       "    .dataframe thead tr:only-child th {\n",
       "        text-align: right;\n",
       "    }\n",
       "\n",
       "    .dataframe thead th {\n",
       "        text-align: left;\n",
       "    }\n",
       "\n",
       "    .dataframe tbody tr th {\n",
       "        vertical-align: top;\n",
       "    }\n",
       "</style>\n",
       "<table border=\"1\" class=\"dataframe\">\n",
       "  <thead>\n",
       "    <tr style=\"text-align: right;\">\n",
       "      <th></th>\n",
       "      <th>Unnamed: 0</th>\n",
       "      <th>nodeid</th>\n",
       "      <th>parent</th>\n",
       "      <th>generation</th>\n",
       "      <th>n</th>\n",
       "      <th>beta.ave</th>\n",
       "      <th>beta.diff</th>\n",
       "      <th>gamma.ave</th>\n",
       "      <th>gamma.diff</th>\n",
       "    </tr>\n",
       "  </thead>\n",
       "  <tbody>\n",
       "    <tr>\n",
       "      <th>0</th>\n",
       "      <td>1</td>\n",
       "      <td>1</td>\n",
       "      <td>0</td>\n",
       "      <td>1</td>\n",
       "      <td>2.0</td>\n",
       "      <td>0.287234</td>\n",
       "      <td>0.053191</td>\n",
       "      <td>0.264423</td>\n",
       "      <td>0.187500</td>\n",
       "    </tr>\n",
       "    <tr>\n",
       "      <th>3</th>\n",
       "      <td>4</td>\n",
       "      <td>1</td>\n",
       "      <td>0</td>\n",
       "      <td>1</td>\n",
       "      <td>2.0</td>\n",
       "      <td>0.277778</td>\n",
       "      <td>0.166667</td>\n",
       "      <td>0.134199</td>\n",
       "      <td>0.024892</td>\n",
       "    </tr>\n",
       "    <tr>\n",
       "      <th>21</th>\n",
       "      <td>22</td>\n",
       "      <td>1</td>\n",
       "      <td>0</td>\n",
       "      <td>1</td>\n",
       "      <td>2.0</td>\n",
       "      <td>0.550000</td>\n",
       "      <td>0.150000</td>\n",
       "      <td>0.768293</td>\n",
       "      <td>0.378049</td>\n",
       "    </tr>\n",
       "    <tr>\n",
       "      <th>30</th>\n",
       "      <td>31</td>\n",
       "      <td>2</td>\n",
       "      <td>1</td>\n",
       "      <td>1</td>\n",
       "      <td>2.0</td>\n",
       "      <td>0.375000</td>\n",
       "      <td>0.025000</td>\n",
       "      <td>0.315574</td>\n",
       "      <td>0.098361</td>\n",
       "    </tr>\n",
       "    <tr>\n",
       "      <th>37</th>\n",
       "      <td>38</td>\n",
       "      <td>1</td>\n",
       "      <td>0</td>\n",
       "      <td>1</td>\n",
       "      <td>2.0</td>\n",
       "      <td>0.411765</td>\n",
       "      <td>0.000000</td>\n",
       "      <td>0.194186</td>\n",
       "      <td>0.089535</td>\n",
       "    </tr>\n",
       "  </tbody>\n",
       "</table>\n",
       "</div>"
      ],
      "text/plain": [
       "    Unnamed: 0  nodeid  parent  generation    n  beta.ave  beta.diff  \\\n",
       "0            1       1       0           1  2.0  0.287234   0.053191   \n",
       "3            4       1       0           1  2.0  0.277778   0.166667   \n",
       "21          22       1       0           1  2.0  0.550000   0.150000   \n",
       "30          31       2       1           1  2.0  0.375000   0.025000   \n",
       "37          38       1       0           1  2.0  0.411765   0.000000   \n",
       "\n",
       "    gamma.ave  gamma.diff  \n",
       "0    0.264423    0.187500  \n",
       "3    0.134199    0.024892  \n",
       "21   0.768293    0.378049  \n",
       "30   0.315574    0.098361  \n",
       "37   0.194186    0.089535  "
      ]
     },
     "execution_count": 13,
     "metadata": {},
     "output_type": "execute_result"
    }
   ],
   "source": [
    "root_null = root[root.isnull().any(axis=1)]\n",
    "root = root.drop(root_null.index)\n",
    "root.head()"
   ]
  },
  {
   "cell_type": "code",
   "execution_count": 14,
   "metadata": {},
   "outputs": [
    {
     "data": {
      "text/html": [
       "<div>\n",
       "<style>\n",
       "    .dataframe thead tr:only-child th {\n",
       "        text-align: right;\n",
       "    }\n",
       "\n",
       "    .dataframe thead th {\n",
       "        text-align: left;\n",
       "    }\n",
       "\n",
       "    .dataframe tbody tr th {\n",
       "        vertical-align: top;\n",
       "    }\n",
       "</style>\n",
       "<table border=\"1\" class=\"dataframe\">\n",
       "  <thead>\n",
       "    <tr style=\"text-align: right;\">\n",
       "      <th></th>\n",
       "      <th>beta.ave</th>\n",
       "      <th>beta.diff</th>\n",
       "      <th>gamma.ave</th>\n",
       "      <th>gamma.diff</th>\n",
       "    </tr>\n",
       "  </thead>\n",
       "  <tbody>\n",
       "    <tr>\n",
       "      <th>0</th>\n",
       "      <td>0.287234</td>\n",
       "      <td>0.053191</td>\n",
       "      <td>0.264423</td>\n",
       "      <td>0.187500</td>\n",
       "    </tr>\n",
       "    <tr>\n",
       "      <th>3</th>\n",
       "      <td>0.277778</td>\n",
       "      <td>0.166667</td>\n",
       "      <td>0.134199</td>\n",
       "      <td>0.024892</td>\n",
       "    </tr>\n",
       "    <tr>\n",
       "      <th>21</th>\n",
       "      <td>0.550000</td>\n",
       "      <td>0.150000</td>\n",
       "      <td>0.768293</td>\n",
       "      <td>0.378049</td>\n",
       "    </tr>\n",
       "    <tr>\n",
       "      <th>30</th>\n",
       "      <td>0.375000</td>\n",
       "      <td>0.025000</td>\n",
       "      <td>0.315574</td>\n",
       "      <td>0.098361</td>\n",
       "    </tr>\n",
       "    <tr>\n",
       "      <th>37</th>\n",
       "      <td>0.411765</td>\n",
       "      <td>0.000000</td>\n",
       "      <td>0.194186</td>\n",
       "      <td>0.089535</td>\n",
       "    </tr>\n",
       "  </tbody>\n",
       "</table>\n",
       "</div>"
      ],
      "text/plain": [
       "    beta.ave  beta.diff  gamma.ave  gamma.diff\n",
       "0   0.287234   0.053191   0.264423    0.187500\n",
       "3   0.277778   0.166667   0.134199    0.024892\n",
       "21  0.550000   0.150000   0.768293    0.378049\n",
       "30  0.375000   0.025000   0.315574    0.098361\n",
       "37  0.411765   0.000000   0.194186    0.089535"
      ]
     },
     "execution_count": 14,
     "metadata": {},
     "output_type": "execute_result"
    }
   ],
   "source": [
    "root_beta_gamma = pd.concat([root['beta.ave'], root['beta.diff'], root['gamma.ave'], root['gamma.diff']], axis=1, \n",
    "                           keys=['beta.ave', 'beta.diff', 'gamma.ave', 'gamma.diff'])\n",
    "root_beta_gamma.head()"
   ]
  },
  {
   "cell_type": "markdown",
   "metadata": {},
   "source": [
    "##### Treetips Data"
   ]
  },
  {
   "cell_type": "code",
   "execution_count": 15,
   "metadata": {
    "scrolled": true
   },
   "outputs": [
    {
     "data": {
      "text/html": [
       "<div>\n",
       "<style>\n",
       "    .dataframe thead tr:only-child th {\n",
       "        text-align: right;\n",
       "    }\n",
       "\n",
       "    .dataframe thead th {\n",
       "        text-align: left;\n",
       "    }\n",
       "\n",
       "    .dataframe tbody tr th {\n",
       "        vertical-align: top;\n",
       "    }\n",
       "</style>\n",
       "<table border=\"1\" class=\"dataframe\">\n",
       "  <thead>\n",
       "    <tr style=\"text-align: right;\">\n",
       "      <th></th>\n",
       "      <th>Unnamed: 0</th>\n",
       "      <th>class</th>\n",
       "      <th>spcs</th>\n",
       "      <th>id</th>\n",
       "      <th>nodeid</th>\n",
       "      <th>parent</th>\n",
       "      <th>generation</th>\n",
       "      <th>n</th>\n",
       "      <th>beta.ave</th>\n",
       "      <th>beta.diff</th>\n",
       "      <th>gamma.ave</th>\n",
       "      <th>gamma.diff</th>\n",
       "    </tr>\n",
       "  </thead>\n",
       "  <tbody>\n",
       "    <tr>\n",
       "      <th>1</th>\n",
       "      <td>2</td>\n",
       "      <td>GS</td>\n",
       "      <td>dougfir</td>\n",
       "      <td>df737g4</td>\n",
       "      <td>108</td>\n",
       "      <td>96</td>\n",
       "      <td>0.75</td>\n",
       "      <td>2.0</td>\n",
       "      <td>0.658621</td>\n",
       "      <td>-0.231034</td>\n",
       "      <td>0.681818</td>\n",
       "      <td>0.170455</td>\n",
       "    </tr>\n",
       "    <tr>\n",
       "      <th>3</th>\n",
       "      <td>4</td>\n",
       "      <td>GS</td>\n",
       "      <td>dougfir</td>\n",
       "      <td>df737g4</td>\n",
       "      <td>110</td>\n",
       "      <td>108</td>\n",
       "      <td>0.25</td>\n",
       "      <td>2.0</td>\n",
       "      <td>0.435484</td>\n",
       "      <td>-0.145161</td>\n",
       "      <td>0.176667</td>\n",
       "      <td>0.116667</td>\n",
       "    </tr>\n",
       "    <tr>\n",
       "      <th>7</th>\n",
       "      <td>8</td>\n",
       "      <td>GS</td>\n",
       "      <td>dougfir</td>\n",
       "      <td>df737g4</td>\n",
       "      <td>121</td>\n",
       "      <td>120</td>\n",
       "      <td>0.50</td>\n",
       "      <td>2.0</td>\n",
       "      <td>0.671053</td>\n",
       "      <td>-0.131579</td>\n",
       "      <td>1.550633</td>\n",
       "      <td>0.462025</td>\n",
       "    </tr>\n",
       "    <tr>\n",
       "      <th>8</th>\n",
       "      <td>9</td>\n",
       "      <td>GS</td>\n",
       "      <td>dougfir</td>\n",
       "      <td>df737g4</td>\n",
       "      <td>134</td>\n",
       "      <td>120</td>\n",
       "      <td>0.25</td>\n",
       "      <td>2.0</td>\n",
       "      <td>0.530000</td>\n",
       "      <td>-0.070000</td>\n",
       "      <td>0.105556</td>\n",
       "      <td>0.053704</td>\n",
       "    </tr>\n",
       "    <tr>\n",
       "      <th>11</th>\n",
       "      <td>12</td>\n",
       "      <td>GS</td>\n",
       "      <td>dougfir</td>\n",
       "      <td>df737g4</td>\n",
       "      <td>37</td>\n",
       "      <td>121</td>\n",
       "      <td>0.50</td>\n",
       "      <td>2.0</td>\n",
       "      <td>0.573770</td>\n",
       "      <td>0.180328</td>\n",
       "      <td>1.011628</td>\n",
       "      <td>0.186047</td>\n",
       "    </tr>\n",
       "  </tbody>\n",
       "</table>\n",
       "</div>"
      ],
      "text/plain": [
       "    Unnamed: 0 class     spcs       id  nodeid parent  generation    n  \\\n",
       "1            2    GS  dougfir  df737g4     108     96        0.75  2.0   \n",
       "3            4    GS  dougfir  df737g4     110    108        0.25  2.0   \n",
       "7            8    GS  dougfir  df737g4     121    120        0.50  2.0   \n",
       "8            9    GS  dougfir  df737g4     134    120        0.25  2.0   \n",
       "11          12    GS  dougfir  df737g4      37    121        0.50  2.0   \n",
       "\n",
       "    beta.ave  beta.diff  gamma.ave  gamma.diff  \n",
       "1   0.658621  -0.231034   0.681818    0.170455  \n",
       "3   0.435484  -0.145161   0.176667    0.116667  \n",
       "7   0.671053  -0.131579   1.550633    0.462025  \n",
       "8   0.530000  -0.070000   0.105556    0.053704  \n",
       "11  0.573770   0.180328   1.011628    0.186047  "
      ]
     },
     "execution_count": 15,
     "metadata": {},
     "output_type": "execute_result"
    }
   ],
   "source": [
    "treetips_null = treetips[treetips.isnull().any(axis=1)]\n",
    "treetips = treetips.drop(treetips_null.index)\n",
    "treetips.head()"
   ]
  },
  {
   "cell_type": "code",
   "execution_count": 16,
   "metadata": {},
   "outputs": [
    {
     "data": {
      "text/html": [
       "<div>\n",
       "<style>\n",
       "    .dataframe thead tr:only-child th {\n",
       "        text-align: right;\n",
       "    }\n",
       "\n",
       "    .dataframe thead th {\n",
       "        text-align: left;\n",
       "    }\n",
       "\n",
       "    .dataframe tbody tr th {\n",
       "        vertical-align: top;\n",
       "    }\n",
       "</style>\n",
       "<table border=\"1\" class=\"dataframe\">\n",
       "  <thead>\n",
       "    <tr style=\"text-align: right;\">\n",
       "      <th></th>\n",
       "      <th>beta.ave</th>\n",
       "      <th>beta.diff</th>\n",
       "      <th>gamma.ave</th>\n",
       "      <th>gamma.diff</th>\n",
       "    </tr>\n",
       "  </thead>\n",
       "  <tbody>\n",
       "    <tr>\n",
       "      <th>1</th>\n",
       "      <td>0.658621</td>\n",
       "      <td>-0.231034</td>\n",
       "      <td>0.681818</td>\n",
       "      <td>0.170455</td>\n",
       "    </tr>\n",
       "    <tr>\n",
       "      <th>3</th>\n",
       "      <td>0.435484</td>\n",
       "      <td>-0.145161</td>\n",
       "      <td>0.176667</td>\n",
       "      <td>0.116667</td>\n",
       "    </tr>\n",
       "    <tr>\n",
       "      <th>7</th>\n",
       "      <td>0.671053</td>\n",
       "      <td>-0.131579</td>\n",
       "      <td>1.550633</td>\n",
       "      <td>0.462025</td>\n",
       "    </tr>\n",
       "    <tr>\n",
       "      <th>8</th>\n",
       "      <td>0.530000</td>\n",
       "      <td>-0.070000</td>\n",
       "      <td>0.105556</td>\n",
       "      <td>0.053704</td>\n",
       "    </tr>\n",
       "    <tr>\n",
       "      <th>11</th>\n",
       "      <td>0.573770</td>\n",
       "      <td>0.180328</td>\n",
       "      <td>1.011628</td>\n",
       "      <td>0.186047</td>\n",
       "    </tr>\n",
       "  </tbody>\n",
       "</table>\n",
       "</div>"
      ],
      "text/plain": [
       "    beta.ave  beta.diff  gamma.ave  gamma.diff\n",
       "1   0.658621  -0.231034   0.681818    0.170455\n",
       "3   0.435484  -0.145161   0.176667    0.116667\n",
       "7   0.671053  -0.131579   1.550633    0.462025\n",
       "8   0.530000  -0.070000   0.105556    0.053704\n",
       "11  0.573770   0.180328   1.011628    0.186047"
      ]
     },
     "execution_count": 16,
     "metadata": {},
     "output_type": "execute_result"
    }
   ],
   "source": [
    "treetips_beta_gamma = pd.concat([treetips['beta.ave'], treetips['beta.diff'], treetips['gamma.ave'], treetips['gamma.diff']], axis=1, \n",
    "                           keys=['beta.ave', 'beta.diff', 'gamma.ave', 'gamma.diff'])\n",
    "treetips_beta_gamma.head()"
   ]
  },
  {
   "cell_type": "markdown",
   "metadata": {},
   "source": [
    "#### STEP 3: Combine plant sets and animal sets"
   ]
  },
  {
   "cell_type": "markdown",
   "metadata": {},
   "source": [
    "Here, I take 15% of the human head and torso, and mouse lung data as my testing dataset"
   ]
  },
  {
   "cell_type": "code",
   "execution_count": 17,
   "metadata": {
    "collapsed": true,
    "scrolled": true
   },
   "outputs": [],
   "source": [
    "hht_training_size = int(hht_beta_gamma.shape[0]*.85)\n",
    "ml_training_size = int(ml_beta_gamma.shape[0]*.85)"
   ]
  },
  {
   "cell_type": "code",
   "execution_count": 18,
   "metadata": {},
   "outputs": [
    {
     "data": {
      "text/html": [
       "<div>\n",
       "<style>\n",
       "    .dataframe thead tr:only-child th {\n",
       "        text-align: right;\n",
       "    }\n",
       "\n",
       "    .dataframe thead th {\n",
       "        text-align: left;\n",
       "    }\n",
       "\n",
       "    .dataframe tbody tr th {\n",
       "        vertical-align: top;\n",
       "    }\n",
       "</style>\n",
       "<table border=\"1\" class=\"dataframe\">\n",
       "  <thead>\n",
       "    <tr style=\"text-align: right;\">\n",
       "      <th></th>\n",
       "      <th>beta.ave</th>\n",
       "      <th>beta.diff</th>\n",
       "      <th>gamma.ave</th>\n",
       "      <th>gamma.diff</th>\n",
       "    </tr>\n",
       "  </thead>\n",
       "  <tbody>\n",
       "    <tr>\n",
       "      <th>0</th>\n",
       "      <td>0.878390</td>\n",
       "      <td>-0.052772</td>\n",
       "      <td>0.967488</td>\n",
       "      <td>0.181460</td>\n",
       "    </tr>\n",
       "    <tr>\n",
       "      <th>1</th>\n",
       "      <td>0.321974</td>\n",
       "      <td>-0.025686</td>\n",
       "      <td>0.733451</td>\n",
       "      <td>0.568940</td>\n",
       "    </tr>\n",
       "    <tr>\n",
       "      <th>2</th>\n",
       "      <td>0.704715</td>\n",
       "      <td>0.296466</td>\n",
       "      <td>3.513122</td>\n",
       "      <td>3.013122</td>\n",
       "    </tr>\n",
       "    <tr>\n",
       "      <th>3</th>\n",
       "      <td>1.827236</td>\n",
       "      <td>0.938097</td>\n",
       "      <td>6.745904</td>\n",
       "      <td>5.480993</td>\n",
       "    </tr>\n",
       "    <tr>\n",
       "      <th>4</th>\n",
       "      <td>3.323552</td>\n",
       "      <td>0.572827</td>\n",
       "      <td>12.394017</td>\n",
       "      <td>5.719845</td>\n",
       "    </tr>\n",
       "  </tbody>\n",
       "</table>\n",
       "</div>"
      ],
      "text/plain": [
       "   beta.ave  beta.diff  gamma.ave  gamma.diff\n",
       "0  0.878390  -0.052772   0.967488    0.181460\n",
       "1  0.321974  -0.025686   0.733451    0.568940\n",
       "2  0.704715   0.296466   3.513122    3.013122\n",
       "3  1.827236   0.938097   6.745904    5.480993\n",
       "4  3.323552   0.572827  12.394017    5.719845"
      ]
     },
     "execution_count": 18,
     "metadata": {},
     "output_type": "execute_result"
    }
   ],
   "source": [
    "animals_training = pd.concat([hht_beta_gamma[:hht_training_size], ml_beta_gamma[:ml_training_size]])\n",
    "animals_training.head()"
   ]
  },
  {
   "cell_type": "code",
   "execution_count": 19,
   "metadata": {},
   "outputs": [
    {
     "data": {
      "text/html": [
       "<div>\n",
       "<style>\n",
       "    .dataframe thead tr:only-child th {\n",
       "        text-align: right;\n",
       "    }\n",
       "\n",
       "    .dataframe thead th {\n",
       "        text-align: left;\n",
       "    }\n",
       "\n",
       "    .dataframe tbody tr th {\n",
       "        vertical-align: top;\n",
       "    }\n",
       "</style>\n",
       "<table border=\"1\" class=\"dataframe\">\n",
       "  <thead>\n",
       "    <tr style=\"text-align: right;\">\n",
       "      <th></th>\n",
       "      <th>beta.ave</th>\n",
       "      <th>beta.diff</th>\n",
       "      <th>gamma.ave</th>\n",
       "      <th>gamma.diff</th>\n",
       "    </tr>\n",
       "  </thead>\n",
       "  <tbody>\n",
       "    <tr>\n",
       "      <th>1607</th>\n",
       "      <td>0.740273</td>\n",
       "      <td>0.060910</td>\n",
       "      <td>1.794760</td>\n",
       "      <td>0.742372</td>\n",
       "    </tr>\n",
       "    <tr>\n",
       "      <th>1608</th>\n",
       "      <td>0.898885</td>\n",
       "      <td>0.042851</td>\n",
       "      <td>1.738455</td>\n",
       "      <td>1.577910</td>\n",
       "    </tr>\n",
       "    <tr>\n",
       "      <th>1609</th>\n",
       "      <td>1.067210</td>\n",
       "      <td>0.160792</td>\n",
       "      <td>2.570699</td>\n",
       "      <td>0.744976</td>\n",
       "    </tr>\n",
       "    <tr>\n",
       "      <th>1615</th>\n",
       "      <td>0.342387</td>\n",
       "      <td>0.005555</td>\n",
       "      <td>0.101684</td>\n",
       "      <td>0.005963</td>\n",
       "    </tr>\n",
       "    <tr>\n",
       "      <th>1616</th>\n",
       "      <td>1.168191</td>\n",
       "      <td>0.819315</td>\n",
       "      <td>4.400258</td>\n",
       "      <td>3.852529</td>\n",
       "    </tr>\n",
       "  </tbody>\n",
       "</table>\n",
       "</div>"
      ],
      "text/plain": [
       "      beta.ave  beta.diff  gamma.ave  gamma.diff\n",
       "1607  0.740273   0.060910   1.794760    0.742372\n",
       "1608  0.898885   0.042851   1.738455    1.577910\n",
       "1609  1.067210   0.160792   2.570699    0.744976\n",
       "1615  0.342387   0.005555   0.101684    0.005963\n",
       "1616  1.168191   0.819315   4.400258    3.852529"
      ]
     },
     "execution_count": 19,
     "metadata": {},
     "output_type": "execute_result"
    }
   ],
   "source": [
    "animals_testing = pd.concat([hht_beta_gamma[hht_training_size:], ml_beta_gamma[ml_training_size:]])\n",
    "animals_testing.head()"
   ]
  },
  {
   "cell_type": "code",
   "execution_count": 20,
   "metadata": {},
   "outputs": [
    {
     "name": "stdout",
     "output_type": "stream",
     "text": [
      "427\n",
      "101\n",
      "242\n",
      "262\n"
     ]
    }
   ],
   "source": [
    "pinon_training_size = int(pinon_beta_gamma.shape[0]*.85)\n",
    "ponderosa_training_size = int(ponderosa_beta_gamma.shape[0]*.85)\n",
    "root_training_size = int(root_beta_gamma.shape[0]*.85)\n",
    "treetips_training_size = int(treetips_beta_gamma.shape[0]*.85)\n",
    "print(pinon_training_size)\n",
    "print(ponderosa_training_size)\n",
    "print(root_training_size)\n",
    "print(treetips_training_size)"
   ]
  },
  {
   "cell_type": "code",
   "execution_count": 21,
   "metadata": {},
   "outputs": [
    {
     "data": {
      "text/html": [
       "<div>\n",
       "<style>\n",
       "    .dataframe thead tr:only-child th {\n",
       "        text-align: right;\n",
       "    }\n",
       "\n",
       "    .dataframe thead th {\n",
       "        text-align: left;\n",
       "    }\n",
       "\n",
       "    .dataframe tbody tr th {\n",
       "        vertical-align: top;\n",
       "    }\n",
       "</style>\n",
       "<table border=\"1\" class=\"dataframe\">\n",
       "  <thead>\n",
       "    <tr style=\"text-align: right;\">\n",
       "      <th></th>\n",
       "      <th>beta.ave</th>\n",
       "      <th>beta.diff</th>\n",
       "      <th>gamma.ave</th>\n",
       "      <th>gamma.diff</th>\n",
       "    </tr>\n",
       "  </thead>\n",
       "  <tbody>\n",
       "    <tr>\n",
       "      <th>7</th>\n",
       "      <td>0.356098</td>\n",
       "      <td>0.078049</td>\n",
       "      <td>0.243902</td>\n",
       "      <td>0.158537</td>\n",
       "    </tr>\n",
       "    <tr>\n",
       "      <th>9</th>\n",
       "      <td>1.466292</td>\n",
       "      <td>0.511236</td>\n",
       "      <td>1.863636</td>\n",
       "      <td>0.893939</td>\n",
       "    </tr>\n",
       "    <tr>\n",
       "      <th>11</th>\n",
       "      <td>1.223529</td>\n",
       "      <td>0.305882</td>\n",
       "      <td>1.296875</td>\n",
       "      <td>0.359375</td>\n",
       "    </tr>\n",
       "    <tr>\n",
       "      <th>13</th>\n",
       "      <td>1.429487</td>\n",
       "      <td>0.660256</td>\n",
       "      <td>1.500000</td>\n",
       "      <td>0.733333</td>\n",
       "    </tr>\n",
       "    <tr>\n",
       "      <th>15</th>\n",
       "      <td>2.083333</td>\n",
       "      <td>1.250000</td>\n",
       "      <td>2.108696</td>\n",
       "      <td>1.717391</td>\n",
       "    </tr>\n",
       "  </tbody>\n",
       "</table>\n",
       "</div>"
      ],
      "text/plain": [
       "    beta.ave  beta.diff  gamma.ave  gamma.diff\n",
       "7   0.356098   0.078049   0.243902    0.158537\n",
       "9   1.466292   0.511236   1.863636    0.893939\n",
       "11  1.223529   0.305882   1.296875    0.359375\n",
       "13  1.429487   0.660256   1.500000    0.733333\n",
       "15  2.083333   1.250000   2.108696    1.717391"
      ]
     },
     "execution_count": 21,
     "metadata": {},
     "output_type": "execute_result"
    }
   ],
   "source": [
    "plants_training = pd.concat([pinon_beta_gamma[:pinon_training_size], \n",
    "                             ponderosa_beta_gamma[:ponderosa_training_size], \n",
    "                             root_beta_gamma[:root_training_size], \n",
    "                             treetips_beta_gamma[:treetips_training_size]])\n",
    "plants_training.head()"
   ]
  },
  {
   "cell_type": "code",
   "execution_count": 22,
   "metadata": {},
   "outputs": [
    {
     "data": {
      "text/html": [
       "<div>\n",
       "<style>\n",
       "    .dataframe thead tr:only-child th {\n",
       "        text-align: right;\n",
       "    }\n",
       "\n",
       "    .dataframe thead th {\n",
       "        text-align: left;\n",
       "    }\n",
       "\n",
       "    .dataframe tbody tr th {\n",
       "        vertical-align: top;\n",
       "    }\n",
       "</style>\n",
       "<table border=\"1\" class=\"dataframe\">\n",
       "  <thead>\n",
       "    <tr style=\"text-align: right;\">\n",
       "      <th></th>\n",
       "      <th>beta.ave</th>\n",
       "      <th>beta.diff</th>\n",
       "      <th>gamma.ave</th>\n",
       "      <th>gamma.diff</th>\n",
       "    </tr>\n",
       "  </thead>\n",
       "  <tbody>\n",
       "    <tr>\n",
       "      <th>1662</th>\n",
       "      <td>0.153614</td>\n",
       "      <td>-0.021084</td>\n",
       "      <td>0.229508</td>\n",
       "      <td>0.032787</td>\n",
       "    </tr>\n",
       "    <tr>\n",
       "      <th>1665</th>\n",
       "      <td>0.163102</td>\n",
       "      <td>0.040107</td>\n",
       "      <td>0.423077</td>\n",
       "      <td>0.076923</td>\n",
       "    </tr>\n",
       "    <tr>\n",
       "      <th>1667</th>\n",
       "      <td>0.657895</td>\n",
       "      <td>-0.105263</td>\n",
       "      <td>0.480769</td>\n",
       "      <td>0.173077</td>\n",
       "    </tr>\n",
       "    <tr>\n",
       "      <th>1671</th>\n",
       "      <td>0.350365</td>\n",
       "      <td>0.138686</td>\n",
       "      <td>0.500000</td>\n",
       "      <td>0.267442</td>\n",
       "    </tr>\n",
       "    <tr>\n",
       "      <th>1674</th>\n",
       "      <td>0.495726</td>\n",
       "      <td>-0.008547</td>\n",
       "      <td>0.230000</td>\n",
       "      <td>0.190000</td>\n",
       "    </tr>\n",
       "  </tbody>\n",
       "</table>\n",
       "</div>"
      ],
      "text/plain": [
       "      beta.ave  beta.diff  gamma.ave  gamma.diff\n",
       "1662  0.153614  -0.021084   0.229508    0.032787\n",
       "1665  0.163102   0.040107   0.423077    0.076923\n",
       "1667  0.657895  -0.105263   0.480769    0.173077\n",
       "1671  0.350365   0.138686   0.500000    0.267442\n",
       "1674  0.495726  -0.008547   0.230000    0.190000"
      ]
     },
     "execution_count": 22,
     "metadata": {},
     "output_type": "execute_result"
    }
   ],
   "source": [
    "plants_testing = pd.concat([pinon_beta_gamma[pinon_training_size:], \n",
    "                             ponderosa_beta_gamma[ponderosa_training_size:], \n",
    "                             root_beta_gamma[root_training_size:], \n",
    "                             treetips_beta_gamma[treetips_training_size:]])\n",
    "plants_testing.head()"
   ]
  },
  {
   "cell_type": "code",
   "execution_count": 23,
   "metadata": {
    "scrolled": true
   },
   "outputs": [
    {
     "data": {
      "image/png": "[encoded data removed]",
      "text/plain": [
       "<matplotlib.figure.Figure at 0x111b2a150>"
      ]
     },
     "metadata": {},
     "output_type": "display_data"
    }
   ],
   "source": [
    "plt.subplot(2,1,1)\n",
    "plt.hist(plants_training['beta.ave'], bins = 100)\n",
    "plt.subplot(2,1,2)\n",
    "plt.hist(plants_training['beta.diff'], bins = 100)\n",
    "plt.show()"
   ]
  },
  {
   "cell_type": "code",
   "execution_count": 24,
   "metadata": {},
   "outputs": [
    {
     "data": {
      "image/png": "[encoded data removed]",
      "text/plain": [
       "<matplotlib.figure.Figure at 0x11d16d910>"
      ]
     },
     "metadata": {},
     "output_type": "display_data"
    }
   ],
   "source": [
    "plt.subplot(2,1,1)\n",
    "plt.hist(plants_training['gamma.ave'], bins = 50)\n",
    "plt.subplot(2,1,2)\n",
    "plt.hist(plants_training['gamma.diff'], bins = 50)\n",
    "plt.show()"
   ]
  },
  {
   "cell_type": "code",
   "execution_count": 25,
   "metadata": {},
   "outputs": [
    {
     "data": {
      "image/png": "[encoded data removed]",
      "text/plain": [
       "<matplotlib.figure.Figure at 0x11fd23990>"
      ]
     },
     "metadata": {},
     "output_type": "display_data"
    },
    {
     "data": {
      "image/png": "[encoded data removed]",
      "text/plain": [
       "<matplotlib.figure.Figure at 0x12029fe10>"
      ]
     },
     "metadata": {},
     "output_type": "display_data"
    },
    {
     "data": {
      "image/png": "[encoded data removed]",
      "text/plain": [
       "<matplotlib.figure.Figure at 0x11fd75710>"
      ]
     },
     "metadata": {},
     "output_type": "display_data"
    },
    {
     "data": {
      "image/png": "[encoded data removed]",
      "text/plain": [
       "<matplotlib.figure.Figure at 0x11fbdf5d0>"
      ]
     },
     "metadata": {},
     "output_type": "display_data"
    }
   ],
   "source": [
    "plt.hist(animals_training['beta.ave'], bins = 100)\n",
    "plt.show()\n",
    "plt.hist(animals_training['beta.diff'], bins = 100)\n",
    "plt.show()\n",
    "plt.hist(animals_training['gamma.ave'], bins = 20)\n",
    "plt.show()\n",
    "plt.hist(animals_training['gamma.diff'], bins = 20)\n",
    "plt.show()"
   ]
  },
  {
   "cell_type": "code",
   "execution_count": 26,
   "metadata": {
    "scrolled": false
   },
   "outputs": [
    {
     "data": {
      "image/png": "[encoded data removed]",
      "text/plain": [
       "<matplotlib.figure.Figure at 0x11fd15c50>"
      ]
     },
     "metadata": {},
     "output_type": "display_data"
    }
   ],
   "source": [
    "plt.scatter(animals_training['beta.ave'], animals_training['gamma.ave'], label = \"ANIMAL\")\n",
    "plt.scatter(plants_training['beta.ave'], plants_training['gamma.ave'], label = \"PLANT\")\n",
    "plt.xlabel('Beta.ave')\n",
    "plt.ylabel('Gamma.ave')\n",
    "plt.title('Beta vs Gamma Values of Plant and Animal Data (beta.ave)')\n",
    "plt.legend()\n",
    "plt.show()"
   ]
  },
  {
   "cell_type": "code",
   "execution_count": 27,
   "metadata": {
    "scrolled": true
   },
   "outputs": [
    {
     "data": {
      "image/png": "[encoded data removed]",
      "text/plain": [
       "<matplotlib.figure.Figure at 0x1201c00d0>"
      ]
     },
     "metadata": {},
     "output_type": "display_data"
    }
   ],
   "source": [
    "plt.scatter(animals_training['beta.diff'], animals_training['gamma.diff'], label = \"ANIMAL\")\n",
    "plt.scatter(plants_training['beta.diff'], plants_training['gamma.diff'], label = \"PLANT\")\n",
    "plt.xlabel('Beta.diff')\n",
    "plt.ylabel('Gamma.diff')\n",
    "plt.title('Beta vs Gamma Values of Plant and Animal Data (beta.diff)')\n",
    "plt.legend()\n",
    "plt.show()"
   ]
  },
  {
   "cell_type": "markdown",
   "metadata": {},
   "source": [
    "animal: beta.ave vs beta.diff\n",
    "plant: beta.ave vs beta.diff\n",
    "animal: gamma.ave vs gamma.diff\n",
    "plant: gamma.ave vs gamma.diff\n",
    "all on one"
   ]
  },
  {
   "cell_type": "markdown",
   "metadata": {},
   "source": [
    "### STEP 4: Support Vector Machines"
   ]
  },
  {
   "cell_type": "code",
   "execution_count": 28,
   "metadata": {
    "collapsed": true
   },
   "outputs": [],
   "source": [
    "from sklearn.svm import SVC\n",
    "from sklearn.datasets import load_digits\n",
    "from sklearn.datasets.samples_generator import make_blobs, make_moons, make_circles\n",
    "from sklearn.metrics import accuracy_score, confusion_matrix\n",
    "from sklearn.decomposition import PCA"
   ]
  },
  {
   "cell_type": "code",
   "execution_count": 29,
   "metadata": {
    "collapsed": true
   },
   "outputs": [],
   "source": [
    "def plot_svc_decision_function(model, ax=None):\n",
    "    if ax is None:\n",
    "        ax = plt.gca()\n",
    "    xlim = ax.get_xlim()\n",
    "    ylim = ax.get_ylim()\n",
    "    x = np.linspace(xlim[0], xlim[1], 30)\n",
    "    y = np.linspace(ylim[0], ylim[1], 30)\n",
    "    Y, X = np.meshgrid(y, x)\n",
    "    xy = np.vstack([X.ravel(), Y.ravel()]).T\n",
    "    P = model.decision_function(xy).reshape(X.shape)\n",
    "    \n",
    "    # plot decision boundary and margins\n",
    "    ax.contour(X, Y, P, colors='k',\n",
    "               levels=[-1, 0, 1], alpha=0.5,\n",
    "               linestyles=['--', '-', '--'])\n",
    "    \n",
    "    ax.set_xlim(xlim)\n",
    "    ax.set_ylim(ylim)"
   ]
  },
  {
   "cell_type": "markdown",
   "metadata": {},
   "source": [
    "##### 1 for animal, 0 for plant"
   ]
  },
  {
   "cell_type": "code",
   "execution_count": 30,
   "metadata": {
    "scrolled": false
   },
   "outputs": [
    {
     "data": {
      "text/html": [
       "<div>\n",
       "<style>\n",
       "    .dataframe thead tr:only-child th {\n",
       "        text-align: right;\n",
       "    }\n",
       "\n",
       "    .dataframe thead th {\n",
       "        text-align: left;\n",
       "    }\n",
       "\n",
       "    .dataframe tbody tr th {\n",
       "        vertical-align: top;\n",
       "    }\n",
       "</style>\n",
       "<table border=\"1\" class=\"dataframe\">\n",
       "  <thead>\n",
       "    <tr style=\"text-align: right;\">\n",
       "      <th></th>\n",
       "      <th>beta.ave</th>\n",
       "      <th>beta.diff</th>\n",
       "      <th>gamma.ave</th>\n",
       "      <th>gamma.diff</th>\n",
       "      <th>type</th>\n",
       "    </tr>\n",
       "  </thead>\n",
       "  <tbody>\n",
       "    <tr>\n",
       "      <th>0</th>\n",
       "      <td>0.878390</td>\n",
       "      <td>-0.052772</td>\n",
       "      <td>0.967488</td>\n",
       "      <td>0.181460</td>\n",
       "      <td>1.0</td>\n",
       "    </tr>\n",
       "    <tr>\n",
       "      <th>1</th>\n",
       "      <td>0.321974</td>\n",
       "      <td>-0.025686</td>\n",
       "      <td>0.733451</td>\n",
       "      <td>0.568940</td>\n",
       "      <td>1.0</td>\n",
       "    </tr>\n",
       "    <tr>\n",
       "      <th>2</th>\n",
       "      <td>0.704715</td>\n",
       "      <td>0.296466</td>\n",
       "      <td>3.513122</td>\n",
       "      <td>3.013122</td>\n",
       "      <td>1.0</td>\n",
       "    </tr>\n",
       "    <tr>\n",
       "      <th>3</th>\n",
       "      <td>1.827236</td>\n",
       "      <td>0.938097</td>\n",
       "      <td>6.745904</td>\n",
       "      <td>5.480993</td>\n",
       "      <td>1.0</td>\n",
       "    </tr>\n",
       "    <tr>\n",
       "      <th>4</th>\n",
       "      <td>3.323552</td>\n",
       "      <td>0.572827</td>\n",
       "      <td>12.394017</td>\n",
       "      <td>5.719845</td>\n",
       "      <td>1.0</td>\n",
       "    </tr>\n",
       "  </tbody>\n",
       "</table>\n",
       "</div>"
      ],
      "text/plain": [
       "   beta.ave  beta.diff  gamma.ave  gamma.diff  type\n",
       "0  0.878390  -0.052772   0.967488    0.181460   1.0\n",
       "1  0.321974  -0.025686   0.733451    0.568940   1.0\n",
       "2  0.704715   0.296466   3.513122    3.013122   1.0\n",
       "3  1.827236   0.938097   6.745904    5.480993   1.0\n",
       "4  3.323552   0.572827  12.394017    5.719845   1.0"
      ]
     },
     "execution_count": 30,
     "metadata": {},
     "output_type": "execute_result"
    }
   ],
   "source": [
    "animals_training[\"type\"] = np.ones(animals_training.shape[0])\n",
    "animals_training.head()"
   ]
  },
  {
   "cell_type": "code",
   "execution_count": 41,
   "metadata": {},
   "outputs": [
    {
     "data": {
      "text/html": [
       "<div>\n",
       "<style>\n",
       "    .dataframe thead tr:only-child th {\n",
       "        text-align: right;\n",
       "    }\n",
       "\n",
       "    .dataframe thead th {\n",
       "        text-align: left;\n",
       "    }\n",
       "\n",
       "    .dataframe tbody tr th {\n",
       "        vertical-align: top;\n",
       "    }\n",
       "</style>\n",
       "<table border=\"1\" class=\"dataframe\">\n",
       "  <thead>\n",
       "    <tr style=\"text-align: right;\">\n",
       "      <th></th>\n",
       "      <th>beta.ave</th>\n",
       "      <th>beta.diff</th>\n",
       "      <th>gamma.ave</th>\n",
       "      <th>gamma.diff</th>\n",
       "      <th>type</th>\n",
       "    </tr>\n",
       "  </thead>\n",
       "  <tbody>\n",
       "    <tr>\n",
       "      <th>7</th>\n",
       "      <td>0.356098</td>\n",
       "      <td>0.078049</td>\n",
       "      <td>0.243902</td>\n",
       "      <td>0.158537</td>\n",
       "      <td>1.0</td>\n",
       "    </tr>\n",
       "    <tr>\n",
       "      <th>9</th>\n",
       "      <td>1.466292</td>\n",
       "      <td>0.511236</td>\n",
       "      <td>1.863636</td>\n",
       "      <td>0.893939</td>\n",
       "      <td>1.0</td>\n",
       "    </tr>\n",
       "    <tr>\n",
       "      <th>11</th>\n",
       "      <td>1.223529</td>\n",
       "      <td>0.305882</td>\n",
       "      <td>1.296875</td>\n",
       "      <td>0.359375</td>\n",
       "      <td>1.0</td>\n",
       "    </tr>\n",
       "    <tr>\n",
       "      <th>13</th>\n",
       "      <td>1.429487</td>\n",
       "      <td>0.660256</td>\n",
       "      <td>1.500000</td>\n",
       "      <td>0.733333</td>\n",
       "      <td>1.0</td>\n",
       "    </tr>\n",
       "    <tr>\n",
       "      <th>15</th>\n",
       "      <td>2.083333</td>\n",
       "      <td>1.250000</td>\n",
       "      <td>2.108696</td>\n",
       "      <td>1.717391</td>\n",
       "      <td>1.0</td>\n",
       "    </tr>\n",
       "  </tbody>\n",
       "</table>\n",
       "</div>"
      ],
      "text/plain": [
       "    beta.ave  beta.diff  gamma.ave  gamma.diff  type\n",
       "7   0.356098   0.078049   0.243902    0.158537   1.0\n",
       "9   1.466292   0.511236   1.863636    0.893939   1.0\n",
       "11  1.223529   0.305882   1.296875    0.359375   1.0\n",
       "13  1.429487   0.660256   1.500000    0.733333   1.0\n",
       "15  2.083333   1.250000   2.108696    1.717391   1.0"
      ]
     },
     "execution_count": 41,
     "metadata": {},
     "output_type": "execute_result"
    }
   ],
   "source": [
    "plants_training[\"type\"] = np.ones(plants_training.shape[0])\n",
    "plants_training.head()"
   ]
  },
  {
   "cell_type": "code",
   "execution_count": 40,
   "metadata": {},
   "outputs": [
    {
     "data": {
      "text/html": [
       "<div>\n",
       "<style>\n",
       "    .dataframe thead tr:only-child th {\n",
       "        text-align: right;\n",
       "    }\n",
       "\n",
       "    .dataframe thead th {\n",
       "        text-align: left;\n",
       "    }\n",
       "\n",
       "    .dataframe tbody tr th {\n",
       "        vertical-align: top;\n",
       "    }\n",
       "</style>\n",
       "<table border=\"1\" class=\"dataframe\">\n",
       "  <thead>\n",
       "    <tr style=\"text-align: right;\">\n",
       "      <th></th>\n",
       "      <th>beta.ave</th>\n",
       "      <th>beta.diff</th>\n",
       "      <th>gamma.ave</th>\n",
       "      <th>gamma.diff</th>\n",
       "      <th>type</th>\n",
       "    </tr>\n",
       "  </thead>\n",
       "  <tbody>\n",
       "    <tr>\n",
       "      <th>1607</th>\n",
       "      <td>0.740273</td>\n",
       "      <td>0.060910</td>\n",
       "      <td>1.794760</td>\n",
       "      <td>0.742372</td>\n",
       "      <td>1.0</td>\n",
       "    </tr>\n",
       "    <tr>\n",
       "      <th>1608</th>\n",
       "      <td>0.898885</td>\n",
       "      <td>0.042851</td>\n",
       "      <td>1.738455</td>\n",
       "      <td>1.577910</td>\n",
       "      <td>1.0</td>\n",
       "    </tr>\n",
       "    <tr>\n",
       "      <th>1609</th>\n",
       "      <td>1.067210</td>\n",
       "      <td>0.160792</td>\n",
       "      <td>2.570699</td>\n",
       "      <td>0.744976</td>\n",
       "      <td>1.0</td>\n",
       "    </tr>\n",
       "    <tr>\n",
       "      <th>1615</th>\n",
       "      <td>0.342387</td>\n",
       "      <td>0.005555</td>\n",
       "      <td>0.101684</td>\n",
       "      <td>0.005963</td>\n",
       "      <td>1.0</td>\n",
       "    </tr>\n",
       "    <tr>\n",
       "      <th>1616</th>\n",
       "      <td>1.168191</td>\n",
       "      <td>0.819315</td>\n",
       "      <td>4.400258</td>\n",
       "      <td>3.852529</td>\n",
       "      <td>1.0</td>\n",
       "    </tr>\n",
       "  </tbody>\n",
       "</table>\n",
       "</div>"
      ],
      "text/plain": [
       "      beta.ave  beta.diff  gamma.ave  gamma.diff  type\n",
       "1607  0.740273   0.060910   1.794760    0.742372   1.0\n",
       "1608  0.898885   0.042851   1.738455    1.577910   1.0\n",
       "1609  1.067210   0.160792   2.570699    0.744976   1.0\n",
       "1615  0.342387   0.005555   0.101684    0.005963   1.0\n",
       "1616  1.168191   0.819315   4.400258    3.852529   1.0"
      ]
     },
     "execution_count": 40,
     "metadata": {},
     "output_type": "execute_result"
    }
   ],
   "source": [
    "animals_testing[\"type\"] = np.ones(animals_testing.shape[0])\n",
    "animals_testing.head()"
   ]
  },
  {
   "cell_type": "code",
   "execution_count": 39,
   "metadata": {},
   "outputs": [
    {
     "data": {
      "text/html": [
       "<div>\n",
       "<style>\n",
       "    .dataframe thead tr:only-child th {\n",
       "        text-align: right;\n",
       "    }\n",
       "\n",
       "    .dataframe thead th {\n",
       "        text-align: left;\n",
       "    }\n",
       "\n",
       "    .dataframe tbody tr th {\n",
       "        vertical-align: top;\n",
       "    }\n",
       "</style>\n",
       "<table border=\"1\" class=\"dataframe\">\n",
       "  <thead>\n",
       "    <tr style=\"text-align: right;\">\n",
       "      <th></th>\n",
       "      <th>beta.ave</th>\n",
       "      <th>beta.diff</th>\n",
       "      <th>gamma.ave</th>\n",
       "      <th>gamma.diff</th>\n",
       "      <th>type</th>\n",
       "    </tr>\n",
       "  </thead>\n",
       "  <tbody>\n",
       "    <tr>\n",
       "      <th>1662</th>\n",
       "      <td>0.153614</td>\n",
       "      <td>-0.021084</td>\n",
       "      <td>0.229508</td>\n",
       "      <td>0.032787</td>\n",
       "      <td>0.0</td>\n",
       "    </tr>\n",
       "    <tr>\n",
       "      <th>1665</th>\n",
       "      <td>0.163102</td>\n",
       "      <td>0.040107</td>\n",
       "      <td>0.423077</td>\n",
       "      <td>0.076923</td>\n",
       "      <td>0.0</td>\n",
       "    </tr>\n",
       "    <tr>\n",
       "      <th>1667</th>\n",
       "      <td>0.657895</td>\n",
       "      <td>-0.105263</td>\n",
       "      <td>0.480769</td>\n",
       "      <td>0.173077</td>\n",
       "      <td>0.0</td>\n",
       "    </tr>\n",
       "    <tr>\n",
       "      <th>1671</th>\n",
       "      <td>0.350365</td>\n",
       "      <td>0.138686</td>\n",
       "      <td>0.500000</td>\n",
       "      <td>0.267442</td>\n",
       "      <td>0.0</td>\n",
       "    </tr>\n",
       "    <tr>\n",
       "      <th>1674</th>\n",
       "      <td>0.495726</td>\n",
       "      <td>-0.008547</td>\n",
       "      <td>0.230000</td>\n",
       "      <td>0.190000</td>\n",
       "      <td>0.0</td>\n",
       "    </tr>\n",
       "  </tbody>\n",
       "</table>\n",
       "</div>"
      ],
      "text/plain": [
       "      beta.ave  beta.diff  gamma.ave  gamma.diff  type\n",
       "1662  0.153614  -0.021084   0.229508    0.032787   0.0\n",
       "1665  0.163102   0.040107   0.423077    0.076923   0.0\n",
       "1667  0.657895  -0.105263   0.480769    0.173077   0.0\n",
       "1671  0.350365   0.138686   0.500000    0.267442   0.0\n",
       "1674  0.495726  -0.008547   0.230000    0.190000   0.0"
      ]
     },
     "execution_count": 39,
     "metadata": {},
     "output_type": "execute_result"
    }
   ],
   "source": [
    "plants_testing[\"type\"] = np.zeros(plants_testing.shape[0])\n",
    "plants_testing.head()"
   ]
  },
  {
   "cell_type": "code",
   "execution_count": 45,
   "metadata": {},
   "outputs": [],
   "source": [
    "training = pd.concat([animals_training, plants_training])\n",
    "testing = pd.concat([animals_testing, plants_testing])"
   ]
  },
  {
   "cell_type": "code",
   "execution_count": 44,
   "metadata": {
    "scrolled": true
   },
   "outputs": [],
   "source": [
    "X = [training['beta.ave'].as_matrix(),training['gamma.ave'].as_matrix()]\n",
    "X = np.transpose(X)\n",
    "Y = training['type'].as_matrix()"
   ]
  },
  {
   "cell_type": "code",
   "execution_count": 38,
   "metadata": {
    "scrolled": true
   },
   "outputs": [
    {
     "data": {
      "image/png": "[encoded data removed]",
      "text/plain": [
       "<matplotlib.figure.Figure at 0x11fddd990>"
      ]
     },
     "metadata": {},
     "output_type": "display_data"
    }
   ],
   "source": [
    "clf = SVC(kernel='poly', degree = 2)\n",
    "clf.fit(X, Y)\n",
    "plt.scatter(X[:, 0], X[:, 1], c=Y, s=10, cmap='inferno')\n",
    "plot_svc_decision_function(clf)"
   ]
  },
  {
   "cell_type": "code",
   "execution_count": 47,
   "metadata": {},
   "outputs": [
    {
     "data": {
      "text/plain": [
       "SVC(C=1.0, cache_size=200, class_weight=None, coef0=0.0,\n",
       "  decision_function_shape=None, degree=2, gamma='auto', kernel='poly',\n",
       "  max_iter=-1, probability=False, random_state=None, shrinking=True,\n",
       "  tol=0.001, verbose=False)"
      ]
     },
     "execution_count": 47,
     "metadata": {},
     "output_type": "execute_result"
    }
   ],
   "source": [
    "clf"
   ]
  },
  {
   "cell_type": "markdown",
   "metadata": {},
   "source": [
    "#### STEP 5: Logistic Regression"
   ]
  },
  {
   "cell_type": "code",
   "execution_count": 48,
   "metadata": {
    "collapsed": true
   },
   "outputs": [],
   "source": [
    "from sklearn.linear_model import LogisticRegression"
   ]
  },
  {
   "cell_type": "code",
   "execution_count": null,
   "metadata": {
    "collapsed": true
   },
   "outputs": [],
   "source": [
    "# Create the plot and add the decision boundary\n",
    "##   (You are welcome to try and understand what's \n",
    "##    going on in this code, but it's not something I \n",
    "##    would test you on.)\n",
    "colorings = {'Iris-setosa':'r', 'Iris-versicolor': 'b', 'Iris-virginica': 'g'}\n",
    "figure = plt.figure()\n",
    "ax = figure.add_subplot(1,1,1)\n",
    "contour = ax.contourf(xx,yy, probs_grid, 25, cmap=\"RdBu\",\n",
    "                      vmin=0, vmax=1)\n",
    "ax_c = figure.colorbar(contour)\n",
    "ax_c.set_label(\"$P(y = 1)$\")\n",
    "\n",
    "# Add your scatter plot!  Use ax.scatter\n",
    "ax.scatter(iris['Sepal length'],iris['Sepal width'], c=iris['Species'].map(colorings))\n",
    "\n",
    "plt.show()"
   ]
  },
  {
   "cell_type": "code",
   "execution_count": null,
   "metadata": {
    "collapsed": true
   },
   "outputs": [],
   "source": [
    "colors = {1:'r', 0:'b'}\n",
    "plt.scatter(X, training['type'], c=df.y_a.map(colors))\n",
    "plt.xlabel(\"x_a1\")\n",
    "plt.ylabel(\"x_a2\")\n",
    "plt.show()\n",
    "\n",
    "#Slice dataframe\n",
    "X = df[['x_a1', 'x_a2']]\n",
    "y=df['y_a']\n",
    "\n",
    "#Fit the model\n",
    "logreg = LogisticRegression()\n",
    "model = logreg.fit(X,y)"
   ]
  },
  {
   "cell_type": "markdown",
   "metadata": {},
   "source": [
    "### STEP 5: Add 3rd Dimension\n",
    "Scaling exponents from \n",
    "conservation based and ratio based methods"
   ]
  },
  {
   "cell_type": "markdown",
   "metadata": {},
   "source": [
    "compile into functions,\n",
    "plot colors of the different data sets to see if there is any variance"
   ]
  }
 ],
 "metadata": {
  "kernelspec": {
   "display_name": "Python 2",
   "language": "python",
   "name": "python2"
  },
  "language_info": {
   "codemirror_mode": {
    "name": "ipython",
    "version": 2
   },
   "file_extension": ".py",
   "mimetype": "text/x-python",
   "name": "python",
   "nbconvert_exporter": "python",
   "pygments_lexer": "ipython2",
   "version": "2.7.13"
  }
 },
 "nbformat": 4,
 "nbformat_minor": 1
}
