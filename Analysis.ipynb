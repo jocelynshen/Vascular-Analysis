{
 "cells": [
  {
   "cell_type": "markdown",
   "metadata": {},
   "source": [
    "Install anaconda\n",
    "type \"jupyter notebook\" into Terminal\n",
    "Load datasets using pandas"
   ]
  },
  {
   "cell_type": "markdown",
   "metadata": {},
   "source": [
    "# Calculating Vascular Scaling Exponents Using Four Methods\n",
    "Jocelyn Shen"
   ]
  },
  {
   "cell_type": "markdown",
   "metadata": {},
   "source": [
    "###### The scaling exponents a and b were calculated using the conservation-based method, the ratio-based method, the distribution-based method, and the regression-based method "
   ]
  },
  {
   "cell_type": "markdown",
   "metadata": {},
   "source": [
    "### Conservation-based"
   ]
  },
  {
   "cell_type": "markdown",
   "metadata": {},
   "source": [
    "Plots a histogram of scaling exponents versus relative frequency and indicates where the mean and median values are on these plots. N (the number of data points), the scaling exponents (calculated using the equations below), the 95% CI, and the standard deviation of the distribution are outputted."
   ]
  },
  {
   "cell_type": "markdown",
   "metadata": {},
   "source": [
    "β=  r_(k+1)/r=2^(-a)"
   ]
  },
  {
   "cell_type": "markdown",
   "metadata": {},
   "source": [
    "γ= l_(k+1)/l=2^(-b)"
   ]
  },
  {
   "cell_type": "markdown",
   "metadata": {},
   "source": [
    "### Ratio-based"
   ]
  },
  {
   "cell_type": "markdown",
   "metadata": {},
   "source": [
    "Plots scaling factor ratios versus relative frequency of each factor, as well as the mean and median of the data set. The scaling exponents are calculated the equations in Conservation-based, and the same values mentioned in Conservation-based method are outputted. "
   ]
  },
  {
   "cell_type": "markdown",
   "metadata": {},
   "source": [
    "### Distribution-based"
   ]
  },
  {
   "cell_type": "markdown",
   "metadata": {},
   "source": [
    "The distribution-based method rests on the assumption that the frequency of radius and length in a vascular network follow power-law distributions (see equation below).  Plots ln(radius or length) versus ln(relative frequency). The exponents are calculated by taking the negative reciprocal of the linear regression of this plot. All values mentioned in Conservation-based method are outputted by the script, excluding standard deviation and including the R2 values. "
   ]
  },
  {
   "cell_type": "markdown",
   "metadata": {},
   "source": [
    "N=(r/r_0 )^(-1/a)=(l/l_0 )^(-1/b)"
   ]
  },
  {
   "cell_type": "markdown",
   "metadata": {},
   "source": [
    "### Regression-based"
   ]
  },
  {
   "cell_type": "markdown",
   "metadata": {},
   "source": [
    "The regression-based method rests on the assumption that the number of downstream tips (Nd) to the power of a or b, is proportional to radius or length (see equations below). Iterates through the vessels and finds which vessels contain no children (the tips). Once the tips are found, determine if the tip is downstream from the vessel. The function, fillArr() fills a vector with all radius and length values, as well as the number of tips. Plot ln(radius or length) versus ln(number of tips) and calculates the scaling exponents by taking the linear regression of this distribution. All values mentioned in Distribution-based method are outputted by the script."
   ]
  },
  {
   "cell_type": "markdown",
   "metadata": {},
   "source": [
    " r∝(N_d )^a                                                                       \n",
    " l∝(N_d )^b"
   ]
  },
  {
   "cell_type": "markdown",
   "metadata": {},
   "source": [
    "PLAN:\n",
    "Compile code into this notebook (MATLAB scripts)\n",
    "Generate output file with the calculated B and GAMMA values\n",
    "Use this generated data on the \"Network Classification Notebook\"b"
   ]
  },
  {
   "cell_type": "code",
   "execution_count": null,
   "metadata": {
    "collapsed": true
   },
   "outputs": [],
   "source": [
    "import "
   ]
  }
 ],
 "metadata": {
  "kernelspec": {
   "display_name": "Python 2",
   "language": "python",
   "name": "python2"
  },
  "language_info": {
   "codemirror_mode": {
    "name": "ipython",
    "version": 2
   },
   "file_extension": ".py",
   "mimetype": "text/x-python",
   "name": "python",
   "nbconvert_exporter": "python",
   "pygments_lexer": "ipython2",
   "version": "2.7.13"
  }
 },
 "nbformat": 4,
 "nbformat_minor": 1
}
